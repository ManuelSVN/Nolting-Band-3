{
 "cells": [
  {
   "cell_type": "markdown",
   "metadata": {},
   "source": [
    "## Herleitung Einheisvektoren (Seite 151)\n",
    "<center><img src=\"Seite151.png\" width=\"700\" /></center>\n",
    "<b> Siehe: </b>\n",
    "<center><img src=\"EklaerungZuSeite151.png\" width=\"700\" /></center>"
   ]
  },
  {
   "cell_type": "markdown",
   "metadata": {},
   "source": []
  }
 ],
 "metadata": {
  "language_info": {
   "name": "python"
  }
 },
 "nbformat": 4,
 "nbformat_minor": 2
}
