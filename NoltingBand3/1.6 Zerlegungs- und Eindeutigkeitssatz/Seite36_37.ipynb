{
 "cells": [
  {
   "cell_type": "code",
   "execution_count": 35,
   "metadata": {},
   "outputs": [
    {
     "data": {
      "image/png": "[encoded data removed]",
      "text/latex": [
       "$\\displaystyle \\frac{1}{\\left|{My}\\right|{\\left(r - x \\right)}}$"
      ],
      "text/plain": [
       "     1     \n",
       "───────────\n",
       "|My|(r - x)"
      ]
     },
     "execution_count": 35,
     "metadata": {},
     "output_type": "execute_result"
    }
   ],
   "source": [
    "import sympy as sp\n",
    "sp.init_printing()\n",
    "\n",
    "def MyAbs(x):\n",
    "    x1=symbols('x1',real=True,positive=True)\n",
    "    x1 = x.evalf(subs={a:0.573})\n",
    "    if x1 < 0.0:\n",
    "        return S(-1)*x\n",
    "    else:\n",
    "        return x\n",
    "\n",
    "# Define symbols\n",
    "r, r_prime = sp.symbols('r x', real = True)\n",
    "# Define the expression\n",
    "expr = 1 / MyAbs(r - r_prime)\n",
    "expr\n",
    "# Differentiate with respect to r"
   ]
  },
  {
   "cell_type": "markdown",
   "metadata": {},
   "source": []
  },
  {
   "cell_type": "code",
   "execution_count": 34,
   "metadata": {},
   "outputs": [
    {
     "data": {
      "image/png": "[encoded data removed]",
      "text/latex": [
       "$\\displaystyle - \\frac{\\operatorname{sign}{\\left(r - x \\right)}}{\\left(r - x\\right)^{2}}$"
      ],
      "text/plain": [
       "-sign(r - x) \n",
       "─────────────\n",
       "          2  \n",
       "   (r - x)   "
      ]
     },
     "execution_count": 34,
     "metadata": {},
     "output_type": "execute_result"
    }
   ],
   "source": [
    "derivative = sp.diff(expr, r)\n",
    "derivative"
   ]
  },
  {
   "cell_type": "code",
   "execution_count": 31,
   "metadata": {},
   "outputs": [
    {
     "data": {
      "text/latex": [
       "$\\displaystyle \\begin{cases} 0 & \\text{for}\\: r = x \\\\\\frac{- \\left(\\operatorname{re}{\\left(r\\right)} - \\operatorname{re}{\\left(x\\right)}\\right) \\frac{d}{d r} \\operatorname{re}{\\left(r\\right)} - \\left(\\operatorname{im}{\\left(r\\right)} - \\operatorname{im}{\\left(x\\right)}\\right) \\frac{d}{d r} \\operatorname{im}{\\left(r\\right)}}{\\left|{\\left(r - x\\right)^{3}}\\right|} & \\text{otherwise} \\end{cases}$"
      ],
      "text/plain": [
       "⎧                           0                             for r = x\n",
       "⎪                                                                  \n",
       "⎪                  d                           d                   \n",
       "⎪- (re(r) - re(x))⋅──(re(r)) - (im(r) - im(x))⋅──(im(r))           \n",
       "⎨                  dr                          dr                  \n",
       "⎪───────────────────────────────────────────────────────  otherwise\n",
       "⎪                       │       3│                                 \n",
       "⎪                       │(r - x) │                                 \n",
       "⎩                                                                  "
      ]
     },
     "execution_count": 31,
     "metadata": {},
     "output_type": "execute_result"
    }
   ],
   "source": [
    "sp.simplify(derivative)"
   ]
  },
  {
   "cell_type": "code",
   "execution_count": 28,
   "metadata": {},
   "outputs": [
    {
     "ename": "NameError",
     "evalue": "name 's' is not defined",
     "output_type": "error",
     "traceback": [
      "\u001b[0;31m---------------------------------------------------------------------------\u001b[0m",
      "\u001b[0;31mNameError\u001b[0m                                 Traceback (most recent call last)",
      "Cell \u001b[0;32mIn[28], line 1\u001b[0m\n\u001b[0;32m----> 1\u001b[0m \u001b[43ms\u001b[49m\n",
      "\u001b[0;31mNameError\u001b[0m: name 's' is not defined"
     ]
    }
   ],
   "source": [
    "s"
   ]
  },
  {
   "cell_type": "code",
   "execution_count": null,
   "metadata": {},
   "outputs": [],
   "source": []
  }
 ],
 "metadata": {
  "kernelspec": {
   "display_name": "Python 3.10.9 ('base')",
   "language": "python",
   "name": "python3"
  },
  "language_info": {
   "codemirror_mode": {
    "name": "ipython",
    "version": 3
   },
   "file_extension": ".py",
   "mimetype": "text/x-python",
   "name": "python",
   "nbconvert_exporter": "python",
   "pygments_lexer": "ipython3",
   "version": "3.10.9"
  },
  "orig_nbformat": 4,
  "vscode": {
   "interpreter": {
    "hash": "bafd27b0819933a6db68141c05f1691b35329489bbdacec144aad246a95140d3"
   }
  }
 },
 "nbformat": 4,
 "nbformat_minor": 2
}
