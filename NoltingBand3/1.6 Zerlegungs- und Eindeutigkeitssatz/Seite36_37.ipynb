{
 "cells": [
  {
   "cell_type": "code",
   "execution_count": 22,
   "metadata": {},
   "outputs": [
    {
     "data": {
      "text/latex": [
       "$\\displaystyle \\frac{1}{\\left|{r - r`}\\right|}$"
      ],
      "text/plain": [
       "   1    \n",
       "────────\n",
       "│r - r`│"
      ]
     },
     "execution_count": 22,
     "metadata": {},
     "output_type": "execute_result"
    }
   ],
   "source": [
    "import sympy as sp\n",
    "sp.init_printing()\n",
    "# Define symbols\n",
    "r, r_prime = sp.symbols('r r`', real=True)\n",
    "# Define the expression\n",
    "expr = 1 / sp.Abs(r - r_prime)\n",
    "expr\n",
    "# Differentiate with respect to r"
   ]
  },
  {
   "cell_type": "markdown",
   "metadata": {},
   "source": []
  },
  {
   "cell_type": "code",
   "execution_count": 23,
   "metadata": {},
   "outputs": [
    {
     "data": {
      "text/latex": [
       "$\\displaystyle - \\frac{\\operatorname{sign}{\\left(r - r` \\right)}}{\\left(r - r`\\right)^{2}}$"
      ],
      "text/plain": [
       "-sign(r - r`) \n",
       "──────────────\n",
       "          2   \n",
       "  (r - r`)    "
      ]
     },
     "execution_count": 23,
     "metadata": {},
     "output_type": "execute_result"
    }
   ],
   "source": [
    "derivative = sp.diff(expr, r)\n",
    "derivative"
   ]
  },
  {
   "cell_type": "code",
   "execution_count": 24,
   "metadata": {},
   "outputs": [
    {
     "data": {
      "text/latex": [
       "$\\displaystyle \\begin{cases} 0 & \\text{for}\\: r = r` \\\\- \\frac{1}{\\left(r - r`\\right) \\left|{r - r`}\\right|} & \\text{otherwise} \\end{cases}$"
      ],
      "text/plain": [
       "⎧        0          for r = r`\n",
       "⎪                             \n",
       "⎨       -1                    \n",
       "⎪─────────────────  otherwise \n",
       "⎩(r - r`)⋅│r - r`│            "
      ]
     },
     "execution_count": 24,
     "metadata": {},
     "output_type": "execute_result"
    }
   ],
   "source": [
    "sp.simplify(derivative)"
   ]
  },
  {
   "cell_type": "code",
   "execution_count": null,
   "metadata": {},
   "outputs": [],
   "source": []
  }
 ],
 "metadata": {
  "kernelspec": {
   "display_name": "Python 3.10.9 ('base')",
   "language": "python",
   "name": "python3"
  },
  "language_info": {
   "codemirror_mode": {
    "name": "ipython",
    "version": 3
   },
   "file_extension": ".py",
   "mimetype": "text/x-python",
   "name": "python",
   "nbconvert_exporter": "python",
   "pygments_lexer": "ipython3",
   "version": "3.10.9"
  },
  "orig_nbformat": 4,
  "vscode": {
   "interpreter": {
    "hash": "bafd27b0819933a6db68141c05f1691b35329489bbdacec144aad246a95140d3"
   }
  }
 },
 "nbformat": 4,
 "nbformat_minor": 2
}
