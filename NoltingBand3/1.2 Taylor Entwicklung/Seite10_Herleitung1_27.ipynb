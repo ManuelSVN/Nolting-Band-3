{
 "cells": [
  {
   "cell_type": "markdown",
   "metadata": {},
   "source": [
    "Die gelb markierte Gleichung stellt die Taylor-Reihe für eine Funktion $\\phi(\\vec{r})$ dar, bei der die Variable $\\vec{r}$ um einen kleinen Vektor $\\Delta \\vec{r}$ verändert wird. Der Ausdruck ist eine Anwendung der Taylor-Entwicklung für mehrdimensionale Funktionen.\n",
    "\n",
    "Die allgemeine Form der Taylor-Reihe für eine mehrdimensionale Funktion $\\phi(\\vec{r})$ um den Punkt $\\vec{r}$ ist gegeben durch:\n",
    "$$\n",
    "\\phi(\\vec{r} + \\Delta \\vec{r}) = \\sum_{n=0}^{\\infty} \\frac{1}{n!} (\\Delta \\vec{r} \\cdot \\nabla)^n \\phi(\\vec{r})\n",
    "$$\n",
    "wobei $\\nabla$ der Gradientenoperator ist, der sich wie folgt zusammensetzt:\n",
    "$$\n",
    "\\nabla = \\left( \\frac{\\partial}{\\partial x}, \\frac{\\partial}{\\partial y}, \\frac{\\partial}{\\partial z} \\right)\n",
    "$$\n",
    "für ein dreidimensionales Koordinatensystem.\n",
    "\n",
    "Der Term $(\\Delta \\vec{r} \\cdot \\nabla)$ ist eine verkürzte Schreibweise für das Anwenden einer Richtungsableitung entlang des Vektors $\\Delta \\vec{r}$.\n",
    "\n",
    "Der letzte Schritt, die gelb markierte Gleichung, zeigt, dass die unendliche Summe der Taylor-Reihe äquivalent zur Exponentialfunktion des Operators $(\\Delta \\vec{r} \\cdot \\nabla)$ angewandt auf die Funktion $\\phi(\\vec{r})$ ist. Das liegt daran, dass die Exponentialfunktion eines Operators, in diesem Fall des Gradientenoperators angewandt in Richtung $\\Delta \\vec{r}$, definiert ist als:\n",
    "$$\n",
    "\\exp(\\Delta \\vec{r} \\cdot \\nabla) = \\sum_{n=0}^{\\infty} \\frac{1}{n!} (\\Delta \\vec{r} \\cdot \\nabla)^n\n",
    "$$\n",
    "Die rechte Seite dieser Gleichung ist genau die Taylor-Reihe aus der zweiten Zeile.\n",
    "\n",
    "Das bedeutet, wenn wir die Exponentialfunktion eines linearen Operators betrachten, entspricht dies der Summierung aller Potenzen dieses Operators (hier $(\\Delta \\vec{r} \\cdot \\nabla)$), wobei jede Potenz durch $n!$ geteilt wird. Dies ist ein fundamentales Konzept der Funktionalanalysis und findet Anwendung in vielen Bereichen der Physik, besonders in der Quantenmechanik, wenn man zum Beispiel über den Zeitentwicklungsoperator spricht."
   ]
  },
  {
   "cell_type": "markdown",
   "metadata": {},
   "source": [
    " ## Oder ganz einfach:"
   ]
  },
  {
   "cell_type": "markdown",
   "metadata": {},
   "source": [
    "<center><img src=\"../Images/Herleitung1_27.png\" width=\"800\" /></center>"
   ]
  },
  {
   "cell_type": "markdown",
   "metadata": {},
   "source": []
  }
 ],
 "metadata": {
  "language_info": {
   "name": "python"
  }
 },
 "nbformat": 4,
 "nbformat_minor": 2
}
