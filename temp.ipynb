{
 "cells": [
  {
   "cell_type": "code",
   "execution_count": 3,
   "metadata": {},
   "outputs": [
    {
     "ename": "ValueError",
     "evalue": "Sample larger than population or is negative",
     "output_type": "error",
     "traceback": [
      "\u001b[1;31m---------------------------------------------------------------------------\u001b[0m",
      "\u001b[1;31mValueError\u001b[0m                                Traceback (most recent call last)",
      "\u001b[1;32mc:\\GIT\\Nolting-Band-3\\temp.ipynb Cell 1\u001b[0m line \u001b[0;36m<cell line: 57>\u001b[1;34m()\u001b[0m\n\u001b[0;32m     <a href='vscode-notebook-cell:/c%3A/GIT/Nolting-Band-3/temp.ipynb#W0sZmlsZQ%3D%3D?line=54'>55</a>\u001b[0m     \u001b[39mprint\u001b[39m(\u001b[39mf\u001b[39m\u001b[39m\"\u001b[39m\u001b[39mSpiel beendet. Du hast dich an \u001b[39m\u001b[39m{\u001b[39;00merinnerte_woerter\u001b[39m}\u001b[39;00m\u001b[39m Wörter korrekt erinnert.\u001b[39m\u001b[39m\"\u001b[39m)\n\u001b[0;32m     <a href='vscode-notebook-cell:/c%3A/GIT/Nolting-Band-3/temp.ipynb#W0sZmlsZQ%3D%3D?line=56'>57</a>\u001b[0m \u001b[39mif\u001b[39;00m \u001b[39m__name__\u001b[39m \u001b[39m==\u001b[39m \u001b[39m\"\u001b[39m\u001b[39m__main__\u001b[39m\u001b[39m\"\u001b[39m:\n\u001b[1;32m---> <a href='vscode-notebook-cell:/c%3A/GIT/Nolting-Band-3/temp.ipynb#W0sZmlsZQ%3D%3D?line=57'>58</a>\u001b[0m     spiel_starten()\n",
      "\u001b[1;32mc:\\GIT\\Nolting-Band-3\\temp.ipynb Cell 1\u001b[0m line \u001b[0;36mspiel_starten\u001b[1;34m(merkzeit)\u001b[0m\n\u001b[0;32m     <a href='vscode-notebook-cell:/c%3A/GIT/Nolting-Band-3/temp.ipynb#W0sZmlsZQ%3D%3D?line=26'>27</a>\u001b[0m \u001b[39mdef\u001b[39;00m \u001b[39mspiel_starten\u001b[39m(merkzeit\u001b[39m=\u001b[39m\u001b[39m10\u001b[39m):  \u001b[39m# Spieler hat 'merkzeit' Sekunden Zeit zum Merken\u001b[39;00m\n\u001b[1;32m---> <a href='vscode-notebook-cell:/c%3A/GIT/Nolting-Band-3/temp.ipynb#W0sZmlsZQ%3D%3D?line=27'>28</a>\u001b[0m     matrix \u001b[39m=\u001b[39m wort_matrix_erstellen(matrix_groesse, woerter_liste)\n\u001b[0;32m     <a href='vscode-notebook-cell:/c%3A/GIT/Nolting-Band-3/temp.ipynb#W0sZmlsZQ%3D%3D?line=28'>29</a>\u001b[0m     \u001b[39mprint\u001b[39m(\u001b[39m\"\u001b[39m\u001b[39mMerke dir die Wörter und ihre Positionen:\u001b[39m\u001b[39m\"\u001b[39m)\n\u001b[0;32m     <a href='vscode-notebook-cell:/c%3A/GIT/Nolting-Band-3/temp.ipynb#W0sZmlsZQ%3D%3D?line=29'>30</a>\u001b[0m     matrix_anzeigen(matrix)\n",
      "\u001b[1;32mc:\\GIT\\Nolting-Band-3\\temp.ipynb Cell 1\u001b[0m line \u001b[0;36mwort_matrix_erstellen\u001b[1;34m(groesse, woerter)\u001b[0m\n\u001b[0;32m     <a href='vscode-notebook-cell:/c%3A/GIT/Nolting-Band-3/temp.ipynb#W0sZmlsZQ%3D%3D?line=9'>10</a>\u001b[0m \u001b[39mdef\u001b[39;00m \u001b[39mwort_matrix_erstellen\u001b[39m(groesse, woerter):\n\u001b[0;32m     <a href='vscode-notebook-cell:/c%3A/GIT/Nolting-Band-3/temp.ipynb#W0sZmlsZQ%3D%3D?line=10'>11</a>\u001b[0m     matrix \u001b[39m=\u001b[39m []\n\u001b[1;32m---> <a href='vscode-notebook-cell:/c%3A/GIT/Nolting-Band-3/temp.ipynb#W0sZmlsZQ%3D%3D?line=11'>12</a>\u001b[0m     verwendete_woerter \u001b[39m=\u001b[39m random\u001b[39m.\u001b[39;49msample(woerter, groesse \u001b[39m*\u001b[39;49m groesse)\n\u001b[0;32m     <a href='vscode-notebook-cell:/c%3A/GIT/Nolting-Band-3/temp.ipynb#W0sZmlsZQ%3D%3D?line=12'>13</a>\u001b[0m     \u001b[39mfor\u001b[39;00m i \u001b[39min\u001b[39;00m \u001b[39mrange\u001b[39m(groesse):\n\u001b[0;32m     <a href='vscode-notebook-cell:/c%3A/GIT/Nolting-Band-3/temp.ipynb#W0sZmlsZQ%3D%3D?line=13'>14</a>\u001b[0m         matrix\u001b[39m.\u001b[39mappend(verwendete_woerter[i\u001b[39m*\u001b[39mgroesse:(i\u001b[39m+\u001b[39m\u001b[39m1\u001b[39m)\u001b[39m*\u001b[39mgroesse])\n",
      "File \u001b[1;32mC:\\Program Files\\WindowsApps\\PythonSoftwareFoundation.Python.3.10_3.10.3056.0_x64__qbz5n2kfra8p0\\lib\\random.py:482\u001b[0m, in \u001b[0;36mRandom.sample\u001b[1;34m(self, population, k, counts)\u001b[0m\n\u001b[0;32m    480\u001b[0m randbelow \u001b[39m=\u001b[39m \u001b[39mself\u001b[39m\u001b[39m.\u001b[39m_randbelow\n\u001b[0;32m    481\u001b[0m \u001b[39mif\u001b[39;00m \u001b[39mnot\u001b[39;00m \u001b[39m0\u001b[39m \u001b[39m<\u001b[39m\u001b[39m=\u001b[39m k \u001b[39m<\u001b[39m\u001b[39m=\u001b[39m n:\n\u001b[1;32m--> 482\u001b[0m     \u001b[39mraise\u001b[39;00m \u001b[39mValueError\u001b[39;00m(\u001b[39m\"\u001b[39m\u001b[39mSample larger than population or is negative\u001b[39m\u001b[39m\"\u001b[39m)\n\u001b[0;32m    483\u001b[0m result \u001b[39m=\u001b[39m [\u001b[39mNone\u001b[39;00m] \u001b[39m*\u001b[39m k\n\u001b[0;32m    484\u001b[0m setsize \u001b[39m=\u001b[39m \u001b[39m21\u001b[39m        \u001b[39m# size of a small set minus size of an empty list\u001b[39;00m\n",
      "\u001b[1;31mValueError\u001b[0m: Sample larger than population or is negative"
     ]
    }
   ],
   "source": [
    "import random\n",
    "import time\n",
    "import os\n",
    "woerter_liste = [\"Apfel\", \"Banane\", \"Cherry\", \"Dattel\", \"Erdbeere\", \"Feige\", \"Grapefruit\", \"Himbeere\", \"Ingwer\", \"Johannisbeere\", \"Kiwi\", \"Limette\", \"Mango\", \"Nektarine\", \"Orange\", \"Papaya\"]\n",
    "\n",
    "\n",
    "matrix_groesse = 4  # Größe der Wortmatrix (4x4)\n",
    "\n",
    "# Erzeugt eine Matrix von zufälligen Wörtern\n",
    "def wort_matrix_erstellen(groesse, woerter):\n",
    "    matrix = []\n",
    "    verwendete_woerter = random.sample(woerter, groesse * groesse)\n",
    "    for i in range(groesse):\n",
    "        matrix.append(verwendete_woerter[i*groesse:(i+1)*groesse])\n",
    "    return matrix\n",
    "\n",
    "# Zeigt die Wortmatrix an\n",
    "def matrix_anzeigen(matrix):\n",
    "    for zeile in matrix:\n",
    "        print(\" | \".join(zeile))\n",
    "    print(\"\\n\")\n",
    "\n",
    "# Löscht die Konsole (funktioniert auf Windows und Unix-Systemen)\n",
    "def konsole_loeschen():\n",
    "    os.system('cls' if os.name == 'nt' else 'clear')\n",
    "\n",
    "def spiel_starten(merkzeit=10):  # Spieler hat 'merkzeit' Sekunden Zeit zum Merken\n",
    "    matrix = wort_matrix_erstellen(matrix_groesse, woerter_liste)\n",
    "    print(\"Merke dir die Wörter und ihre Positionen:\")\n",
    "    matrix_anzeigen(matrix)\n",
    "    \n",
    "    print(f\"Du hast {merkzeit} Sekunden Zeit, dir die Wörter zu merken.\")\n",
    "    time.sleep(merkzeit)\n",
    "    \n",
    "    konsole_loeschen()\n",
    "    print(\"Die Zeit ist um! Bitte gebe die Wörter ein, die du dir gemerkt hast (Format: Wort Zeilennummer Spaltennummer):\")\n",
    "    \n",
    "    erinnerte_woerter = 0\n",
    "    while True:\n",
    "        eingabe = input(\"Wort (oder 'ende' zum Beenden): \")\n",
    "        if eingabe == \"ende\":\n",
    "            break\n",
    "        try:\n",
    "            wort, zeile, spalte = eingabe.split()\n",
    "            zeile = int(zeile) - 1\n",
    "            spalte = int(spalte) - 1\n",
    "            if matrix[zeile][spalte] == wort:\n",
    "                print(\"Richtig!\")\n",
    "                erinnerte_woerter += 1\n",
    "            else:\n",
    "                print(\"Falsch oder falsche Position!\")\n",
    "        except ValueError:\n",
    "            print(\"Falsches Format. Bitte erneut versuchen.\")\n",
    "    \n",
    "    print(f\"Spiel beendet. Du hast dich an {erinnerte_woerter} Wörter korrekt erinnert.\")\n",
    "\n",
    "if __name__ == \"__main__\":\n",
    "    spiel_starten()\n"
   ]
  },
  {
   "cell_type": "code",
   "execution_count": 1,
   "metadata": {},
   "outputs": [
    {
     "name": "stdout",
     "output_type": "stream",
     "text": [
      "hello world\n"
     ]
    }
   ],
   "source": [
    "print(\"hello world\")"
   ]
  },
  {
   "cell_type": "code",
   "execution_count": null,
   "metadata": {},
   "outputs": [],
   "source": []
  }
 ],
 "metadata": {
  "kernelspec": {
   "display_name": "Python 3.10.9 ('base')",
   "language": "python",
   "name": "python3"
  },
  "language_info": {
   "codemirror_mode": {
    "name": "ipython",
    "version": 3
   },
   "file_extension": ".py",
   "mimetype": "text/x-python",
   "name": "python",
   "nbconvert_exporter": "python",
   "pygments_lexer": "ipython3",
   "version": "3.10.11"
  },
  "orig_nbformat": 4,
  "vscode": {
   "interpreter": {
    "hash": "bafd27b0819933a6db68141c05f1691b35329489bbdacec144aad246a95140d3"
   }
  }
 },
 "nbformat": 4,
 "nbformat_minor": 2
}
